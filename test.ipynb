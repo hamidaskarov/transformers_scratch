{
 "cells": [
  {
   "cell_type": "code",
   "execution_count": 1,
   "metadata": {},
   "outputs": [],
   "source": [
    "import torch\n",
    "import matplotlib.pyplot as plt\n",
    "import torch.nn as nn\n",
    "import transformer\n",
    "import math"
   ]
  },
  {
   "cell_type": "code",
   "execution_count": 2,
   "metadata": {},
   "outputs": [],
   "source": [
    "n_dim = 512\n",
    "vocab_size = 60\n",
    "seq_len = 5\n",
    "token_ids = torch.tensor([[54,10,1,12,43],[34,23,23,12,34], [1,2,3,4,5]])"
   ]
  },
  {
   "cell_type": "code",
   "execution_count": 5,
   "metadata": {},
   "outputs": [],
   "source": [
    "emb = transformer.InputBlock(vocab_size, n_dim)(token_ids)"
   ]
  },
  {
   "cell_type": "code",
   "execution_count": 6,
   "metadata": {},
   "outputs": [
    {
     "data": {
      "text/plain": [
       "tensor([[[-1.3862,  0.2993,  0.7983,  ..., -0.1226,  0.7965,  0.1868],\n",
       "         [-0.2339,  0.0168,  0.5998,  ...,  3.1701, -0.5414,  0.2076],\n",
       "         [ 1.4959, -0.8138,  0.6351,  ...,  2.0934, -0.9319, -0.0141],\n",
       "         [ 0.5124, -0.1209, -1.7992,  ...,  2.1360, -0.3330,  1.0333],\n",
       "         [-0.4600,  0.7770, -2.1648,  ...,  1.1561,  0.4349,  1.1827]],\n",
       "\n",
       "        [[-0.8565, -0.0052, -2.5383,  ...,  0.2877, -0.6528,  0.8026],\n",
       "         [ 0.1618,  1.1636,  1.9982,  ..., -0.2738,  1.1063,  0.8954],\n",
       "         [ 0.2296,  0.2250,  2.1127,  ..., -0.2738,  1.1064,  0.8954],\n",
       "         [ 0.5124, -0.1209, -1.7992,  ...,  2.1360, -0.3330,  1.0333],\n",
       "         [-1.6133, -1.7111, -3.1955,  ...,  0.2877, -0.6524,  0.8026]],\n",
       "\n",
       "        [[ 0.5866,  0.5697, -0.3013,  ...,  2.0934, -0.9321, -0.0141],\n",
       "         [-0.1469, -0.0515,  0.7813,  ...,  0.1095,  0.7247,  0.5836],\n",
       "         [ 1.5393, -1.4848,  0.1172,  ..., -0.1204, -0.7911,  0.7053],\n",
       "         [ 0.4439, -3.1902,  0.7441,  ...,  1.2689, -0.6204,  1.8428],\n",
       "         [-1.3438, -0.5813, -1.4815,  ...,  2.0977, -0.0256,  1.1527]]],\n",
       "       grad_fn=<AddBackward0>)"
      ]
     },
     "execution_count": 6,
     "metadata": {},
     "output_type": "execute_result"
    }
   ],
   "source": [
    "transformer.PositionalEncoding(seq_len, n_dim, dropout=0)(emb)"
   ]
  },
  {
   "cell_type": "code",
   "execution_count": null,
   "metadata": {},
   "outputs": [],
   "source": []
  },
  {
   "cell_type": "code",
   "execution_count": null,
   "metadata": {},
   "outputs": [],
   "source": []
  }
 ],
 "metadata": {
  "kernelspec": {
   "display_name": ".venv",
   "language": "python",
   "name": "python3"
  },
  "language_info": {
   "codemirror_mode": {
    "name": "ipython",
    "version": 3
   },
   "file_extension": ".py",
   "mimetype": "text/x-python",
   "name": "python",
   "nbconvert_exporter": "python",
   "pygments_lexer": "ipython3",
   "version": "3.9.6"
  }
 },
 "nbformat": 4,
 "nbformat_minor": 2
}
